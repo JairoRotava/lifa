{
 "cells": [
  {
   "cell_type": "markdown",
   "metadata": {},
   "source": [
    "# Exemplo processamento sinal flare"
   ]
  },
  {
   "cell_type": "code",
   "execution_count": 8,
   "metadata": {},
   "outputs": [],
   "source": [
    "import numpy as np\n",
    "import matplotlib.pyplot as plt\n",
    "#from atmospheric_lidar import licelv2\n",
    "import glob\n",
    "import os\n",
    "#from atmospheric_lidar.licel import LicelLidarMeasurement\n",
    "from lifa.licel import LicelLidarMeasurement"
   ]
  },
  {
   "cell_type": "markdown",
   "metadata": {},
   "source": [
    "## Carrega arquivos a serem processados"
   ]
  },
  {
   "cell_type": "code",
   "execution_count": 9,
   "metadata": {},
   "outputs": [
    {
     "name": "stdout",
     "output_type": "stream",
     "text": [
      "Numero de arquivos: 18 \n",
      "Canais: odict_keys(['00355.o_an', '00355.o_std_an', '00355.o_ph', '00355.o_std_ph', '00395.s_an', '00395.s_std_an', '00395.s_ph', '00395.s_std_ph', '00353.o_an', '00353.o_std_an', '00353.o_ph', '00353.o_std_ph', '00371.o_an', '00371.o_std_an', '00371.o_ph', '00371.o_std_ph', '00395.p_an', '00395.p_std_an', '00395.p_ph', '00395.p_std_ph', '00460.o_an', '00460.o_std_an', '00460.o_ph', '00460.o_std_ph', '00532.o_an', '00532.o_std_an', '00532.o_ph', '00532.o_std_ph', '00530.o_an', '00530.o_std_an', '00530.o_ph', '00530.o_std_ph'])\n",
      "Dimensoes dados: (18, 16380)\n"
     ]
    }
   ],
   "source": [
    "# Diretorio com dados\n",
    "#directory = r\"D:\\Local - OURO NOVA\\Medidas\\Medidas CEPEMA\\20241204-Alex e Jairo\\Meio chama p=23mm bom pra caralho\"\n",
    "#directory = r\"D:\\Local - OURO NOVA\\Medidas\\Medidas CEPEMA\\20241204-Alex e Jairo\\Acima flare fast\"\n",
    "directory = r\"D:\\Local - OURO NOVA\\Medidas\\Medidas CEPEMA\\20241204-Alex e Jairo\\Acima da chama p=23 mm\"\n",
    "#irectory = r\"D:\\Local - OURO NOVA\\Medidas\\Medidas CEPEMA\\20241204-Alex e Jairo\\Topo chama p-23mm\"\n",
    "#directory = r\"D:\\Local - OURO NOVA\\Medidas\\Medidas CEPEMA\\20241204-Alex e Jairo\\Em baixo chama p 23\"\n",
    "#directory = r\"D:\\Local - OURO NOVA\\Medidas\\Medidas CEPEMA\\20241204-Alex e Jairo\\Meio chama p=23mm bom pra caralho\"\n",
    "#directory = r\"D:\\Local - OURO NOVA\\Medidas\\Medidas CEPEMA\\20241204-Alex e Jairo\\Topo chama p-23mm\"\n",
    "#directory = r\"D:\\Local - OURO NOVA\\Medidas\\Medidas CEPEMA\\20241204-Alex e Jairo\\Acima da chama p=23 mm\"\n",
    "\n",
    "file_wildcard = 'a???????.??????'\n",
    "files = glob.glob(os.path.join(directory, file_wildcard))\n",
    "\n",
    "measurement_all = LicelLidarMeasurement(files)\n",
    "\n",
    "print(\"Numero de arquivos: {} \".format(len(files)))\n",
    "print(\"Canais: {}\".format(measurement_all.channels.keys()))\n",
    "print(\"Dimensoes dados: {}\".format(measurement_all.channels['00355.o_an'].matrix.shape))"
   ]
  },
  {
   "cell_type": "markdown",
   "metadata": {},
   "source": [
    "## Função para processamento"
   ]
  },
  {
   "cell_type": "code",
   "execution_count": 33,
   "metadata": {},
   "outputs": [],
   "source": [
    "def emissions(files, calib):\n",
    "\n",
    "\n",
    "    measurement_all = LicelLidarMeasurement(files)\n",
    "    licel_channels_names = ['00355.o_an', '00353.o_an',  '00371.o_an', '00395.s_an', '00395.p_an', '00460.o_an', '00532.o_an', '00530.o_an']\n",
    "    licel_channels_id = {k: v for v, k in enumerate(licel_channels_names)}\n",
    "    measurement = measurement_all.subset_by_channels(licel_channels_names)\n",
    "\n",
    "    # Range correction\n",
    "    for channel in licel_channels_names:\n",
    "        measurement.channels[channel].calculate_rc()\n",
    "\n",
    "    # Build raw signal and range corrected matrix\n",
    "    raw_signal = []\n",
    "    rc_signal = []\n",
    "    distance = []\n",
    "    hv = []\n",
    "    for channel in licel_channels_names:\n",
    "        raw_signal.append(np.mean(measurement.channels[channel].matrix, axis=0))\n",
    "        rc_signal.append(np.mean(measurement.channels[channel].rc, axis=0))\n",
    "        distance.append(measurement.channels[channel].z)\n",
    "        hv.append(measurement.channels[channel].hv)\n",
    "\n",
    "\n",
    "    raw_signal =np.array(raw_signal)\n",
    "    rc_signal = np.array(rc_signal)\n",
    "    # assume distance is the same for all channels\n",
    "    distance = np.array(distance)[0]\n",
    "    # assume voltage is the same all files\n",
    "    hv = np.array(hv)[:,0]\n",
    "\n",
    "    # raw_signal é melhor que range corrected pq evidencia sinais mais próximos do lidar. Melhor para visualizar pequenos sinais\n",
    "    # Retira background\n",
    "    signal = raw_signal\n",
    "    #bin_min = -1000\n",
    "    #bin_max = -500\n",
    "    background_bins = calib['background_bins']\n",
    "    background = np.mean(raw_signal[:,background_bins], axis=1)\n",
    "    signal = np.transpose(np.transpose(raw_signal) - background)\n",
    "\n",
    "    #clipa na região de interesse\n",
    "    pre_flare_bins = calib['pre_flare_bins']\n",
    "    post_flare_bins = calib['post_flare_bins']\n",
    "    subset_min = pre_flare_bins[0]\n",
    "    subset_max = post_flare_bins[1]\n",
    "    signal_subset = signal[:,subset_min:subset_max]\n",
    "    distance_subset = distance[subset_min:subset_max]\n",
    "\n",
    "    # Calcula sinal de referencia\n",
    "    # Avaliação de crosstalk entre 355 e 352. Ver que exite influencia. O mesmo não ocorre em 532 e 530 nm.\n",
    "    #bin_shift = 0\n",
    "    #crosstalk = 150\n",
    "    crosstalk = calib['crosstalk_355_ref']\n",
    "\n",
    "    ref_signal = signal_subset[licel_channels_id['00353.o_an']] - (1/crosstalk)*signal_subset[licel_channels_id['00355.o_an']]\n",
    "\n",
    "    # Seleciona região da curva para fitting. Pegar depois de pico\n",
    "    #bin_min = None\n",
    "    #bin_max = None\n",
    "    #fit_idx = np.concatenate((x[:2], x[-2:]))\n",
    "    #xfit = distance_subset[bin_min:bin_max]\n",
    "    pre_len = pre_flare_bins[1] - pre_flare_bins[0]\n",
    "    post_len = post_flare_bins[1] - post_flare_bins[0]\n",
    "    \n",
    "    # região de fitting é somente pre e post flame\n",
    "    xfit = np.concatenate( (distance_subset[:pre_len], distance_subset[-post_len:]) )\n",
    "    ydata = np.concatenate( (ref_signal[:pre_len], ref_signal[-post_len:]) )\n",
    "\n",
    "\n",
    "\n",
    "    #ydata = ref_signal[bin_min:bin_max]\n",
    "\n",
    "\n",
    "    z = np.polyfit(xfit, ydata, 10)\n",
    "    f = np.poly1d(z)\n",
    "\n",
    "    fit_ref = f(distance_subset)\n",
    "\n",
    "    # Fluorescencia\n",
    "    # Fluorescence indicator 460/ref\n",
    "    fluo = signal_subset[licel_channels_id['00460.o_an']]/fit_ref\n",
    "\n",
    "    # CO2 = (371)/ref\n",
    "    #gco2 = 3e6\n",
    "    gco2 = calib['g_co2']\n",
    "    #gfluo_co2 = 0.00235\n",
    "    #gfluo_co2 = 0.0\n",
    "    gfluo_co2 = calib['crosstalk_fluo_co2']\n",
    "    co2 = gco2*((signal_subset[licel_channels_id['00371.o_an']])/fit_ref - gfluo_co2*fluo)\n",
    "\n",
    "    # CO2 = (371)/ref\n",
    "    #gch4 = 0.5e6\n",
    "    gch4 = calib['g_ch4']\n",
    "    #gdif_ch4 = 0\n",
    "    gdif_ch4 = calib['g_sp_ch4']\n",
    "    #gfluo_ch4 = 0\n",
    "    gfluo_ch4 = calib['crosstalk_fluo_ch4']\n",
    "\n",
    "    # Forma 1\n",
    "    ch4_1 = gch4*((signal_subset[licel_channels_id['00395.p_an']] - gdif_ch4*signal_subset[licel_channels_id['00395.s_an']])/fit_ref)\n",
    "    # Forma 2\n",
    "    ch4_2 = gch4*(signal_subset[licel_channels_id['00395.p_an']]/fit_ref - gfluo_ch4*fluo)\n",
    "\n",
    "    ch4= ch4_1\n",
    "\n",
    "    #ce = 1 /(1 + ch4/(co2 + ch4))\n",
    "    ce_1 = co2/(co2 + ch4)\n",
    "    g_ce_rel = 0.16\n",
    "    ce_2 = 1/(1 + (g_ce_rel*signal_subset[licel_channels_id['00395.p_an']]/signal_subset[licel_channels_id['00371.o_an']]))\n",
    "\n",
    "    ce = ce_1\n",
    "\n",
    "    flare_bins = calib['flare_bins']\n",
    "    rel_idx_min = flare_bins[0] - subset_min\n",
    "    rel_idx_max = flare_bins[1] - subset_min\n",
    "    flare_co2 = calib['correction_factor_co2']*np.mean(co2[rel_idx_min:rel_idx_max])\n",
    "    flare_ch4 = calib['correction_factor_ch4']*np.mean(ch4[rel_idx_min:rel_idx_max])\n",
    "    flare_ce = flare_co2/(flare_ch4 + flare_co2)\n",
    "    flare_ce_rel = np.mean(ce_2[rel_idx_min:rel_idx_max])\n",
    "    flare_fluo = calib['correction_factor_fluo']*np.mean(fluo[rel_idx_min:rel_idx_max])\n",
    "\n",
    "    rel_idx_min = 0\n",
    "    rel_idx_max = pre_flare_bins[1] - subset_min\n",
    "    pre_flare_co2 = np.mean(co2[rel_idx_min:rel_idx_max])\n",
    "    pre_flare_ch4 = np.mean(ch4[rel_idx_min:rel_idx_max])\n",
    "    pre_flare_ce = pre_flare_co2/(pre_flare_ch4 + pre_flare_co2)\n",
    "    pre_flare_ce_rel = np.mean(ce_2[rel_idx_min:rel_idx_max])\n",
    "    pre_flare_fluo = np.mean(fluo[rel_idx_min:rel_idx_max])\n",
    "\n",
    "    output = {\n",
    "        'diagnostics' :\n",
    "        {\n",
    "            'calibrations': calib,\n",
    "            'files': files,\n",
    "            'channels': licel_channels_names,\n",
    "            'hv': hv,\n",
    "            'signal': signal,\n",
    "            'background': background,\n",
    "            'reference': ref_signal,\n",
    "            'fitting': fit_ref,\n",
    "            'fluorescence': fluo,\n",
    "            'co2': co2,\n",
    "            'ch4': ch4,\n",
    "            'ce': ce,\n",
    "            'ce_rel': ce_2,\n",
    "            'distances': distance\n",
    "        },\n",
    "        'pre_flare' : {\n",
    "            'co2': pre_flare_co2,\n",
    "            'ch4': pre_flare_ch4,\n",
    "            'ce': pre_flare_ce,\n",
    "            'ce_rel' : pre_flare_ce_rel, \n",
    "            'fluo': pre_flare_fluo,\n",
    "        },\n",
    "        'flare' : {\n",
    "            'co2': flare_co2,\n",
    "            'ch4': flare_ch4,\n",
    "            'ce': flare_ce,\n",
    "            'ce_rel': flare_ce_rel,\n",
    "            'fluo': flare_fluo\n",
    "        }\n",
    "    }\n",
    "\n",
    "    return output"
   ]
  },
  {
   "cell_type": "markdown",
   "metadata": {},
   "source": [
    "## Exemplo de processamento"
   ]
  },
  {
   "cell_type": "code",
   "execution_count": 34,
   "metadata": {},
   "outputs": [],
   "source": [
    "# Parametros de calibração\n",
    "calibrations = {\n",
    "    'crosstalk_355_ref': 150,           # valor de crosstalk de 355 nm no sinal de 353 nm\n",
    "    'g_co2': 3e6,                       # ganho do canal 371\n",
    "    'crosstalk_fluo_co2': 0,            # crosstalk da fluorescencia no 371\n",
    "    'g_ch4': 0.5e6,                     # ganho do canal 395 nm\n",
    "    'crosstalk_fluo_ch4': 0,            # crosstalk da fluorescencia no 395 nm\n",
    "    'g_sp_ch4': 0,                      # fator de correção entre 395p e 395 s. A ideia é que um tem fluorescencia+raman e outro somente fluorescencia\n",
    "    'g_ce_relative': 0.16,              # fator de correção para ce calculado diretamente por 1/(1 +(g * raman ch4/raman co2))\n",
    "    'pre_flare_bins': (80,100),         # região antes do flare para uso de referencia\n",
    "    'post_flare_bins': (120,140),       # região após flare e oscilação pmt para referência\n",
    "    'flare_bins': (104,109),            # posição do flare\n",
    "    'background_bins': (15000, 16000),  # região onde é calculado background do sinal\n",
    "    'correction_factor_co2': 1,         # fator de correção devido limitação resolução espacial para CO2\n",
    "    'correction_factor_ch4': 1,         # fator de correção devido limitação resolução espacial para CH4\n",
    "    'correction_factor_fluo': 1         # fator de correção devido limitação resolução espacial para FLUO\n",
    "}\n",
    "\n",
    "flare_emissions = emissions(files=files[:], calib = calibrations)"
   ]
  },
  {
   "cell_type": "markdown",
   "metadata": {},
   "source": [
    "## Dados para flare"
   ]
  },
  {
   "cell_type": "code",
   "execution_count": 35,
   "metadata": {},
   "outputs": [
    {
     "name": "stdout",
     "output_type": "stream",
     "text": [
      "Flare: \n",
      "CO2 1431 ppm\n",
      "CH4 35 ppm\n",
      "CE 97.6 %\n",
      "CE (razao raman) 97.4 %\n"
     ]
    }
   ],
   "source": [
    "print(\"Flare: \")\n",
    "print(\"CO2 {:.0f} ppm\".format(flare_emissions['flare']['co2']))\n",
    "print(\"CH4 {:.0f} ppm\".format(flare_emissions['flare']['ch4']))\n",
    "print(\"CE {:.1f} %\".format(100*flare_emissions['flare']['ce']))\n",
    "print(\"CE (razao raman) {:.1f} %\".format(100*flare_emissions['flare']['ce_rel']))"
   ]
  },
  {
   "cell_type": "markdown",
   "metadata": {},
   "source": [
    "## Informações para diagnosticos"
   ]
  },
  {
   "cell_type": "code",
   "execution_count": null,
   "metadata": {},
   "outputs": [],
   "source": []
  },
  {
   "cell_type": "code",
   "execution_count": null,
   "metadata": {},
   "outputs": [],
   "source": [
    "# Apresenta informações\n",
    "print('Numero de arquivos: {}'.format(len(flare_emissions['diagnostics']['files'])))\n",
    "print('PMTs Voltage {}'.format(flare_emissions['diagnostics']['hv']))\n",
    "print('Backgrounds {}'.format(flare_emissions['diagnostics']['background']))\n",
    "print('Flare: ',flare_emissions['flare'])\n",
    "print('Pre flare: ',flare_emissions['pre_flare'])\n",
    "\n",
    "plt.plot(flare_emissions['diagnostics']['reference'], 'o')\n",
    "plt.plot(flare_emissions['diagnostics']['fitting'], 'o')\n",
    "plt.show()\n",
    "plt.plot(flare_emissions['diagnostics']['fluorescence'])\n",
    "plt.show()\n",
    "plt.plot(flare_emissions['diagnostics']['co2'])\n",
    "plt.show()\n",
    "plt.plot(flare_emissions['diagnostics']['ch4'])\n",
    "plt.show()\n",
    "plt.plot(flare_emissions['diagnostics']['ce'])"
   ]
  },
  {
   "cell_type": "code",
   "execution_count": null,
   "metadata": {},
   "outputs": [],
   "source": []
  }
 ],
 "metadata": {
  "kernelspec": {
   "display_name": "Python 3",
   "language": "python",
   "name": "python3"
  },
  "language_info": {
   "codemirror_mode": {
    "name": "ipython",
    "version": 3
   },
   "file_extension": ".py",
   "mimetype": "text/x-python",
   "name": "python",
   "nbconvert_exporter": "python",
   "pygments_lexer": "ipython3",
   "version": "3.13.1"
  }
 },
 "nbformat": 4,
 "nbformat_minor": 2
}
